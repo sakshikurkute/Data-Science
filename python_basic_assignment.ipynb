{
 "cells": [
  {
   "cell_type": "code",
   "execution_count": 2,
   "id": "88eebd0a",
   "metadata": {},
   "outputs": [],
   "source": [
    "# data types"
   ]
  },
  {
   "cell_type": "code",
   "execution_count": 3,
   "id": "57e25bca",
   "metadata": {},
   "outputs": [
    {
     "data": {
      "text/plain": [
       "'Learning Python'"
      ]
     },
     "execution_count": 3,
     "metadata": {},
     "output_type": "execute_result"
    }
   ],
   "source": [
    "s = \"Learning Python\"\n",
    "s"
   ]
  },
  {
   "cell_type": "code",
   "execution_count": 4,
   "id": "c9aab34c",
   "metadata": {},
   "outputs": [
    {
     "data": {
      "text/plain": [
       "15"
      ]
     },
     "execution_count": 4,
     "metadata": {},
     "output_type": "execute_result"
    }
   ],
   "source": [
    "len(s)"
   ]
  },
  {
   "cell_type": "code",
   "execution_count": 5,
   "id": "6554090b",
   "metadata": {},
   "outputs": [
    {
     "data": {
      "text/plain": [
       "str"
      ]
     },
     "execution_count": 5,
     "metadata": {},
     "output_type": "execute_result"
    }
   ],
   "source": [
    "type(s)"
   ]
  },
  {
   "cell_type": "code",
   "execution_count": 6,
   "id": "401f3bc8",
   "metadata": {},
   "outputs": [
    {
     "data": {
      "text/plain": [
       "123"
      ]
     },
     "execution_count": 6,
     "metadata": {},
     "output_type": "execute_result"
    }
   ],
   "source": [
    "s1 = 123\n",
    "s1"
   ]
  },
  {
   "cell_type": "code",
   "execution_count": 7,
   "id": "050ebf32",
   "metadata": {},
   "outputs": [
    {
     "data": {
      "text/plain": [
       "int"
      ]
     },
     "execution_count": 7,
     "metadata": {},
     "output_type": "execute_result"
    }
   ],
   "source": [
    "type(s1)"
   ]
  },
  {
   "cell_type": "code",
   "execution_count": 8,
   "id": "b9bd500d",
   "metadata": {},
   "outputs": [
    {
     "data": {
      "text/plain": [
       "12.3"
      ]
     },
     "execution_count": 8,
     "metadata": {},
     "output_type": "execute_result"
    }
   ],
   "source": [
    "s2 = 12.30\n",
    "s2"
   ]
  },
  {
   "cell_type": "code",
   "execution_count": 9,
   "id": "9d69f1a4",
   "metadata": {},
   "outputs": [
    {
     "data": {
      "text/plain": [
       "float"
      ]
     },
     "execution_count": 9,
     "metadata": {},
     "output_type": "execute_result"
    }
   ],
   "source": [
    "type(s2)"
   ]
  },
  {
   "cell_type": "code",
   "execution_count": 10,
   "id": "2f1e897c",
   "metadata": {},
   "outputs": [],
   "source": [
    "# slicing operation"
   ]
  },
  {
   "cell_type": "code",
   "execution_count": 11,
   "id": "a4bbcf46",
   "metadata": {},
   "outputs": [],
   "source": [
    "s = \"Learning Python\""
   ]
  },
  {
   "cell_type": "code",
   "execution_count": 12,
   "id": "a12e6ea2",
   "metadata": {},
   "outputs": [
    {
     "data": {
      "text/plain": [
       "'Learning Python'"
      ]
     },
     "execution_count": 12,
     "metadata": {},
     "output_type": "execute_result"
    }
   ],
   "source": [
    "s"
   ]
  },
  {
   "cell_type": "code",
   "execution_count": 13,
   "id": "eb2a5e16",
   "metadata": {},
   "outputs": [
    {
     "data": {
      "text/plain": [
       "'arn'"
      ]
     },
     "execution_count": 13,
     "metadata": {},
     "output_type": "execute_result"
    }
   ],
   "source": [
    "s[2:5:1]"
   ]
  },
  {
   "cell_type": "code",
   "execution_count": 14,
   "id": "c95b0963",
   "metadata": {},
   "outputs": [
    {
     "data": {
      "text/plain": [
       "'noh'"
      ]
     },
     "execution_count": 14,
     "metadata": {},
     "output_type": "execute_result"
    }
   ],
   "source": [
    "s[-1:-4:-1]"
   ]
  },
  {
   "cell_type": "code",
   "execution_count": 15,
   "id": "48688780",
   "metadata": {},
   "outputs": [
    {
     "data": {
      "text/plain": [
       "'Learning '"
      ]
     },
     "execution_count": 15,
     "metadata": {},
     "output_type": "execute_result"
    }
   ],
   "source": [
    "s[:9]"
   ]
  },
  {
   "cell_type": "code",
   "execution_count": 16,
   "id": "ffb024d1",
   "metadata": {},
   "outputs": [
    {
     "data": {
      "text/plain": [
       "'rning Python'"
      ]
     },
     "execution_count": 16,
     "metadata": {},
     "output_type": "execute_result"
    }
   ],
   "source": [
    "s[3:]"
   ]
  },
  {
   "cell_type": "code",
   "execution_count": 17,
   "id": "eaa02962",
   "metadata": {},
   "outputs": [
    {
     "data": {
      "text/plain": [
       "'Learning Python'"
      ]
     },
     "execution_count": 17,
     "metadata": {},
     "output_type": "execute_result"
    }
   ],
   "source": [
    "s[:]"
   ]
  },
  {
   "cell_type": "code",
   "execution_count": 18,
   "id": "22d2502d",
   "metadata": {},
   "outputs": [
    {
     "data": {
      "text/plain": [
       "'n'"
      ]
     },
     "execution_count": 18,
     "metadata": {},
     "output_type": "execute_result"
    }
   ],
   "source": [
    "s[-1:]"
   ]
  },
  {
   "cell_type": "code",
   "execution_count": 19,
   "id": "1972bd5f",
   "metadata": {},
   "outputs": [
    {
     "data": {
      "text/plain": [
       "'eL'"
      ]
     },
     "execution_count": 19,
     "metadata": {},
     "output_type": "execute_result"
    }
   ],
   "source": [
    "s[1::-1]"
   ]
  },
  {
   "cell_type": "code",
   "execution_count": 20,
   "id": "ee2e398f",
   "metadata": {},
   "outputs": [
    {
     "data": {
      "text/plain": [
       "'nohtyP gninraeL'"
      ]
     },
     "execution_count": 20,
     "metadata": {},
     "output_type": "execute_result"
    }
   ],
   "source": [
    "s[::-1]"
   ]
  },
  {
   "cell_type": "code",
   "execution_count": 21,
   "id": "22c32538",
   "metadata": {},
   "outputs": [],
   "source": [
    "s = \"Learning Python\""
   ]
  },
  {
   "cell_type": "code",
   "execution_count": 22,
   "id": "73d6d834",
   "metadata": {},
   "outputs": [
    {
     "data": {
      "text/plain": [
       "'Learning Python'"
      ]
     },
     "execution_count": 22,
     "metadata": {},
     "output_type": "execute_result"
    }
   ],
   "source": [
    "s"
   ]
  },
  {
   "cell_type": "code",
   "execution_count": 23,
   "id": "db9ae71a",
   "metadata": {},
   "outputs": [
    {
     "data": {
      "text/plain": [
       "'Learning Pythondata science'"
      ]
     },
     "execution_count": 23,
     "metadata": {},
     "output_type": "execute_result"
    }
   ],
   "source": [
    "s + \"data science\""
   ]
  },
  {
   "cell_type": "code",
   "execution_count": 24,
   "id": "cc6a14d9",
   "metadata": {},
   "outputs": [
    {
     "data": {
      "text/plain": [
       "'Learning PythonLearning Python'"
      ]
     },
     "execution_count": 24,
     "metadata": {},
     "output_type": "execute_result"
    }
   ],
   "source": [
    "s * 2"
   ]
  },
  {
   "cell_type": "code",
   "execution_count": 25,
   "id": "ee6d41d9",
   "metadata": {},
   "outputs": [
    {
     "name": "stdout",
     "output_type": "stream",
     "text": [
      "Learning Pythonis very easy\n"
     ]
    }
   ],
   "source": [
    "print(s + \"is very easy\")"
   ]
  },
  {
   "cell_type": "code",
   "execution_count": 26,
   "id": "f56d946a",
   "metadata": {
    "scrolled": true
   },
   "outputs": [],
   "source": [
    "a = \"Python\""
   ]
  },
  {
   "cell_type": "code",
   "execution_count": 27,
   "id": "109e0a44",
   "metadata": {},
   "outputs": [
    {
     "data": {
      "text/plain": [
       "'Python'"
      ]
     },
     "execution_count": 27,
     "metadata": {},
     "output_type": "execute_result"
    }
   ],
   "source": [
    "a"
   ]
  },
  {
   "cell_type": "code",
   "execution_count": 28,
   "id": "72ffd5a0",
   "metadata": {},
   "outputs": [
    {
     "data": {
      "text/plain": [
       "6"
      ]
     },
     "execution_count": 28,
     "metadata": {},
     "output_type": "execute_result"
    }
   ],
   "source": [
    "len(a)"
   ]
  },
  {
   "cell_type": "code",
   "execution_count": 29,
   "id": "97a8f9ba",
   "metadata": {},
   "outputs": [
    {
     "data": {
      "text/plain": [
       "'Python'"
      ]
     },
     "execution_count": 29,
     "metadata": {},
     "output_type": "execute_result"
    }
   ],
   "source": [
    "a.lstrip()"
   ]
  },
  {
   "cell_type": "code",
   "execution_count": 30,
   "id": "61f64dfc",
   "metadata": {},
   "outputs": [
    {
     "data": {
      "text/plain": [
       "'Python'"
      ]
     },
     "execution_count": 30,
     "metadata": {},
     "output_type": "execute_result"
    }
   ],
   "source": [
    "a.rstrip()"
   ]
  },
  {
   "cell_type": "code",
   "execution_count": 31,
   "id": "ab732df0",
   "metadata": {},
   "outputs": [
    {
     "data": {
      "text/plain": [
       "'Learning Python'"
      ]
     },
     "execution_count": 31,
     "metadata": {},
     "output_type": "execute_result"
    }
   ],
   "source": [
    "s"
   ]
  },
  {
   "cell_type": "code",
   "execution_count": 32,
   "id": "c4d16275",
   "metadata": {},
   "outputs": [
    {
     "data": {
      "text/plain": [
       "1"
      ]
     },
     "execution_count": 32,
     "metadata": {},
     "output_type": "execute_result"
    }
   ],
   "source": [
    "s.find(\"earn\")"
   ]
  },
  {
   "cell_type": "code",
   "execution_count": 33,
   "id": "f9b81d4c",
   "metadata": {},
   "outputs": [
    {
     "data": {
      "text/plain": [
       "9"
      ]
     },
     "execution_count": 33,
     "metadata": {},
     "output_type": "execute_result"
    }
   ],
   "source": [
    "s.find(\"Python\")"
   ]
  },
  {
   "cell_type": "code",
   "execution_count": 34,
   "id": "6117f45b",
   "metadata": {},
   "outputs": [
    {
     "data": {
      "text/plain": [
       "1"
      ]
     },
     "execution_count": 34,
     "metadata": {},
     "output_type": "execute_result"
    }
   ],
   "source": [
    "s.count(\"Python\")"
   ]
  },
  {
   "cell_type": "code",
   "execution_count": 35,
   "id": "d8ec2177",
   "metadata": {},
   "outputs": [
    {
     "data": {
      "text/plain": [
       "'sakshirsakshirsakshirsakshi'"
      ]
     },
     "execution_count": 35,
     "metadata": {},
     "output_type": "execute_result"
    }
   ],
   "source": [
    "b = \"sakshirsakshirsakshirsakshi\"\n",
    "b"
   ]
  },
  {
   "cell_type": "code",
   "execution_count": 36,
   "id": "929a7f8f",
   "metadata": {},
   "outputs": [
    {
     "data": {
      "text/plain": [
       "['sakshi', 'sakshi', 'sakshi', 'sakshi']"
      ]
     },
     "execution_count": 36,
     "metadata": {},
     "output_type": "execute_result"
    }
   ],
   "source": [
    "b.split(\"r\")"
   ]
  },
  {
   "cell_type": "code",
   "execution_count": 37,
   "id": "665e35e1",
   "metadata": {},
   "outputs": [
    {
     "data": {
      "text/plain": [
       "['sakshirsakshirsakshirsakshi']"
      ]
     },
     "execution_count": 37,
     "metadata": {},
     "output_type": "execute_result"
    }
   ],
   "source": [
    "b.split(maxsplit=1)"
   ]
  },
  {
   "cell_type": "code",
   "execution_count": 38,
   "id": "59ab22ab",
   "metadata": {},
   "outputs": [
    {
     "data": {
      "text/plain": [
       "['sakshi', 'sakshi', 'sakshi', 'sakshi']"
      ]
     },
     "execution_count": 38,
     "metadata": {},
     "output_type": "execute_result"
    }
   ],
   "source": [
    "b.split(sep='r')"
   ]
  },
  {
   "cell_type": "code",
   "execution_count": 39,
   "id": "ca7f051e",
   "metadata": {},
   "outputs": [
    {
     "data": {
      "text/plain": [
       "'pythonpythonpythonsakshi'"
      ]
     },
     "execution_count": 39,
     "metadata": {},
     "output_type": "execute_result"
    }
   ],
   "source": [
    "b.replace('sakshir','python')"
   ]
  },
  {
   "cell_type": "code",
   "execution_count": 40,
   "id": "9fca9a9c",
   "metadata": {},
   "outputs": [
    {
     "data": {
      "text/plain": [
       "'wearelearningpython'"
      ]
     },
     "execution_count": 40,
     "metadata": {},
     "output_type": "execute_result"
    }
   ],
   "source": [
    "b1 = ['we','are','learning','python']\n",
    "''.join(b1)"
   ]
  },
  {
   "cell_type": "code",
   "execution_count": 41,
   "id": "f2375033",
   "metadata": {},
   "outputs": [
    {
     "data": {
      "text/plain": [
       "'WE ARE LEARNING PYTHON'"
      ]
     },
     "execution_count": 41,
     "metadata": {},
     "output_type": "execute_result"
    }
   ],
   "source": [
    "b2 = \"we are learning python\"\n",
    "b2.upper()"
   ]
  },
  {
   "cell_type": "code",
   "execution_count": 42,
   "id": "7bf62483",
   "metadata": {},
   "outputs": [
    {
     "data": {
      "text/plain": [
       "'We Are Learning Python'"
      ]
     },
     "execution_count": 42,
     "metadata": {},
     "output_type": "execute_result"
    }
   ],
   "source": [
    "b2.title()"
   ]
  },
  {
   "cell_type": "code",
   "execution_count": null,
   "id": "3e929ef6",
   "metadata": {},
   "outputs": [],
   "source": []
  },
  {
   "cell_type": "code",
   "execution_count": 43,
   "id": "71c69792",
   "metadata": {},
   "outputs": [
    {
     "data": {
      "text/plain": [
       "'We are learning python'"
      ]
     },
     "execution_count": 43,
     "metadata": {},
     "output_type": "execute_result"
    }
   ],
   "source": [
    "b2.capitalize()"
   ]
  },
  {
   "cell_type": "code",
   "execution_count": 44,
   "id": "c7f1ca2a",
   "metadata": {},
   "outputs": [
    {
     "data": {
      "text/plain": [
       "'WE ARE LEARNING PYTHON'"
      ]
     },
     "execution_count": 44,
     "metadata": {},
     "output_type": "execute_result"
    }
   ],
   "source": [
    "b2.swapcase()"
   ]
  },
  {
   "cell_type": "code",
   "execution_count": 45,
   "id": "13188145",
   "metadata": {},
   "outputs": [],
   "source": [
    "s = \"python\""
   ]
  },
  {
   "cell_type": "code",
   "execution_count": 46,
   "id": "8fc28b90",
   "metadata": {},
   "outputs": [
    {
     "data": {
      "text/plain": [
       "'python'"
      ]
     },
     "execution_count": 46,
     "metadata": {},
     "output_type": "execute_result"
    }
   ],
   "source": [
    "s"
   ]
  },
  {
   "cell_type": "code",
   "execution_count": 47,
   "id": "0ab50738",
   "metadata": {},
   "outputs": [
    {
     "data": {
      "text/plain": [
       "'*******python*******'"
      ]
     },
     "execution_count": 47,
     "metadata": {},
     "output_type": "execute_result"
    }
   ],
   "source": [
    "s.center(20,\"*\")"
   ]
  },
  {
   "cell_type": "code",
   "execution_count": 48,
   "id": "e344ceac",
   "metadata": {},
   "outputs": [
    {
     "data": {
      "text/plain": [
       "True"
      ]
     },
     "execution_count": 48,
     "metadata": {},
     "output_type": "execute_result"
    }
   ],
   "source": [
    "s.islower()"
   ]
  },
  {
   "cell_type": "code",
   "execution_count": 49,
   "id": "eaba7c7f",
   "metadata": {},
   "outputs": [
    {
     "data": {
      "text/plain": [
       "False"
      ]
     },
     "execution_count": 49,
     "metadata": {},
     "output_type": "execute_result"
    }
   ],
   "source": [
    "s.isupper()"
   ]
  },
  {
   "cell_type": "code",
   "execution_count": 50,
   "id": "978a0398",
   "metadata": {},
   "outputs": [
    {
     "data": {
      "text/plain": [
       "False"
      ]
     },
     "execution_count": 50,
     "metadata": {},
     "output_type": "execute_result"
    }
   ],
   "source": [
    "s.isdigit()"
   ]
  },
  {
   "cell_type": "code",
   "execution_count": 51,
   "id": "8dec57a6",
   "metadata": {},
   "outputs": [],
   "source": [
    "s = \"python\""
   ]
  },
  {
   "cell_type": "code",
   "execution_count": 52,
   "id": "51aef772",
   "metadata": {},
   "outputs": [
    {
     "data": {
      "text/plain": [
       "'python'"
      ]
     },
     "execution_count": 52,
     "metadata": {},
     "output_type": "execute_result"
    }
   ],
   "source": [
    "s"
   ]
  },
  {
   "cell_type": "code",
   "execution_count": 53,
   "id": "6ae4bb16",
   "metadata": {},
   "outputs": [
    {
     "data": {
      "text/plain": [
       "True"
      ]
     },
     "execution_count": 53,
     "metadata": {},
     "output_type": "execute_result"
    }
   ],
   "source": [
    "s.isalnum()"
   ]
  },
  {
   "cell_type": "code",
   "execution_count": 54,
   "id": "937d8779",
   "metadata": {},
   "outputs": [
    {
     "data": {
      "text/plain": [
       "False"
      ]
     },
     "execution_count": 54,
     "metadata": {},
     "output_type": "execute_result"
    }
   ],
   "source": [
    "s.startswith('P')"
   ]
  },
  {
   "cell_type": "code",
   "execution_count": 55,
   "id": "32c98f7e",
   "metadata": {},
   "outputs": [
    {
     "data": {
      "text/plain": [
       "False"
      ]
     },
     "execution_count": 55,
     "metadata": {},
     "output_type": "execute_result"
    }
   ],
   "source": [
    "s.endswith('N')"
   ]
  },
  {
   "cell_type": "code",
   "execution_count": 56,
   "id": "f088c61e",
   "metadata": {},
   "outputs": [],
   "source": [
    "# sets , list , tuple , dictionary"
   ]
  },
  {
   "cell_type": "code",
   "execution_count": 57,
   "id": "18b9a81e",
   "metadata": {},
   "outputs": [],
   "source": [
    "l = [10,11,'sakshi',11.5,True]"
   ]
  },
  {
   "cell_type": "code",
   "execution_count": 58,
   "id": "1e96dbe9",
   "metadata": {},
   "outputs": [
    {
     "data": {
      "text/plain": [
       "[10, 11, 'sakshi', 11.5, True]"
      ]
     },
     "execution_count": 58,
     "metadata": {},
     "output_type": "execute_result"
    }
   ],
   "source": [
    "l"
   ]
  },
  {
   "cell_type": "code",
   "execution_count": 59,
   "id": "9776e3a3",
   "metadata": {},
   "outputs": [],
   "source": [
    "t = (10,11,'sakshi',11.5,True)"
   ]
  },
  {
   "cell_type": "code",
   "execution_count": 60,
   "id": "151226f5",
   "metadata": {},
   "outputs": [
    {
     "data": {
      "text/plain": [
       "(10, 11, 'sakshi', 11.5, True)"
      ]
     },
     "execution_count": 60,
     "metadata": {},
     "output_type": "execute_result"
    }
   ],
   "source": [
    "t"
   ]
  },
  {
   "cell_type": "code",
   "execution_count": 61,
   "id": "7c20926a",
   "metadata": {},
   "outputs": [],
   "source": [
    "s = {10,11,'sakshi',11.5,True}"
   ]
  },
  {
   "cell_type": "code",
   "execution_count": 62,
   "id": "702cfc57",
   "metadata": {},
   "outputs": [
    {
     "data": {
      "text/plain": [
       "{10, 11, 11.5, True, 'sakshi'}"
      ]
     },
     "execution_count": 62,
     "metadata": {},
     "output_type": "execute_result"
    }
   ],
   "source": [
    "s"
   ]
  },
  {
   "cell_type": "code",
   "execution_count": 63,
   "id": "4ff9b960",
   "metadata": {},
   "outputs": [],
   "source": [
    "d = {'kepy':'value','name':'sakshi','age':22,'city':'pune'}"
   ]
  },
  {
   "cell_type": "code",
   "execution_count": 64,
   "id": "c8b6c476",
   "metadata": {},
   "outputs": [
    {
     "data": {
      "text/plain": [
       "{'kepy': 'value', 'name': 'sakshi', 'age': 22, 'city': 'pune'}"
      ]
     },
     "execution_count": 64,
     "metadata": {},
     "output_type": "execute_result"
    }
   ],
   "source": [
    "d"
   ]
  },
  {
   "cell_type": "code",
   "execution_count": 65,
   "id": "be84d9aa",
   "metadata": {},
   "outputs": [],
   "source": [
    "s1 = {10,20,30,40,50,60,70,80,90,10,20,33}"
   ]
  },
  {
   "cell_type": "code",
   "execution_count": 66,
   "id": "e40aaa01",
   "metadata": {},
   "outputs": [
    {
     "data": {
      "text/plain": [
       "set"
      ]
     },
     "execution_count": 66,
     "metadata": {},
     "output_type": "execute_result"
    }
   ],
   "source": [
    "type(s1)"
   ]
  },
  {
   "cell_type": "code",
   "execution_count": 67,
   "id": "b221fc6d",
   "metadata": {},
   "outputs": [
    {
     "data": {
      "text/plain": [
       "10"
      ]
     },
     "execution_count": 67,
     "metadata": {},
     "output_type": "execute_result"
    }
   ],
   "source": [
    "len(s1) # only unique value will be count"
   ]
  },
  {
   "cell_type": "code",
   "execution_count": 68,
   "id": "0561a5fe",
   "metadata": {},
   "outputs": [],
   "source": [
    "a = {10,20,30,40,50,60,70}\n",
    "b = {1,2,3,40,50,60,70,8,9}"
   ]
  },
  {
   "cell_type": "code",
   "execution_count": 69,
   "id": "3c6e72fb",
   "metadata": {},
   "outputs": [
    {
     "data": {
      "text/plain": [
       "{40, 50, 60, 70}"
      ]
     },
     "execution_count": 69,
     "metadata": {},
     "output_type": "execute_result"
    }
   ],
   "source": [
    "a.intersection(b) #common value will be count"
   ]
  },
  {
   "cell_type": "code",
   "execution_count": 70,
   "id": "e2c5a0a5",
   "metadata": {},
   "outputs": [
    {
     "data": {
      "text/plain": [
       "{1, 2, 3, 8, 9, 10, 20, 30, 40, 50, 60, 70}"
      ]
     },
     "execution_count": 70,
     "metadata": {},
     "output_type": "execute_result"
    }
   ],
   "source": [
    "a.union(b) #all value will be count but not double value will be count"
   ]
  },
  {
   "cell_type": "code",
   "execution_count": 71,
   "id": "67d3b0f7",
   "metadata": {},
   "outputs": [
    {
     "data": {
      "text/plain": [
       "{10, 20, 30}"
      ]
     },
     "execution_count": 71,
     "metadata": {},
     "output_type": "execute_result"
    }
   ],
   "source": [
    "a.difference(b)"
   ]
  },
  {
   "cell_type": "code",
   "execution_count": 72,
   "id": "e7f89166",
   "metadata": {},
   "outputs": [
    {
     "data": {
      "text/plain": [
       "{1, 2, 3, 8, 9}"
      ]
     },
     "execution_count": 72,
     "metadata": {},
     "output_type": "execute_result"
    }
   ],
   "source": [
    "b.difference(a)"
   ]
  },
  {
   "cell_type": "code",
   "execution_count": 73,
   "id": "87dfb23b",
   "metadata": {},
   "outputs": [
    {
     "data": {
      "text/plain": [
       "{1, 2, 3, 8, 9, 10, 20, 30}"
      ]
     },
     "execution_count": 73,
     "metadata": {},
     "output_type": "execute_result"
    }
   ],
   "source": [
    "a.symmetric_difference(b)"
   ]
  },
  {
   "cell_type": "code",
   "execution_count": 74,
   "id": "9328e1c4",
   "metadata": {},
   "outputs": [],
   "source": [
    "l = [10,20,30,40,50,60,70,80,90,10,20,30,40,50]"
   ]
  },
  {
   "cell_type": "code",
   "execution_count": 75,
   "id": "ecf92b4f",
   "metadata": {},
   "outputs": [
    {
     "data": {
      "text/plain": [
       "list"
      ]
     },
     "execution_count": 75,
     "metadata": {},
     "output_type": "execute_result"
    }
   ],
   "source": [
    "type(l)"
   ]
  },
  {
   "cell_type": "code",
   "execution_count": 76,
   "id": "dbb2d11c",
   "metadata": {},
   "outputs": [
    {
     "data": {
      "text/plain": [
       "14"
      ]
     },
     "execution_count": 76,
     "metadata": {},
     "output_type": "execute_result"
    }
   ],
   "source": [
    "len(l)"
   ]
  },
  {
   "cell_type": "code",
   "execution_count": 77,
   "id": "14e55ba7",
   "metadata": {},
   "outputs": [
    {
     "data": {
      "text/plain": [
       "40"
      ]
     },
     "execution_count": 77,
     "metadata": {},
     "output_type": "execute_result"
    }
   ],
   "source": [
    "l[3]"
   ]
  },
  {
   "cell_type": "code",
   "execution_count": 78,
   "id": "21ae0e42",
   "metadata": {},
   "outputs": [
    {
     "data": {
      "text/plain": [
       "[10, 20, 30, 40, 50, 60, 70]"
      ]
     },
     "execution_count": 78,
     "metadata": {},
     "output_type": "execute_result"
    }
   ],
   "source": [
    "l[0:7]"
   ]
  },
  {
   "cell_type": "code",
   "execution_count": 79,
   "id": "dfac9e2f",
   "metadata": {},
   "outputs": [
    {
     "data": {
      "text/plain": [
       "[50, 40, 30, 20, 10, 90, 80, 70, 60, 50, 40, 30, 20, 10]"
      ]
     },
     "execution_count": 79,
     "metadata": {},
     "output_type": "execute_result"
    }
   ],
   "source": [
    "l[::-1]"
   ]
  },
  {
   "cell_type": "code",
   "execution_count": 80,
   "id": "3e8bda16",
   "metadata": {},
   "outputs": [
    {
     "data": {
      "text/plain": [
       "[10, 20, 30, 40, 50, 60, 70, 80, 90, 10, 20, 30, 40, 50]"
      ]
     },
     "execution_count": 80,
     "metadata": {},
     "output_type": "execute_result"
    }
   ],
   "source": [
    "l[::]"
   ]
  },
  {
   "cell_type": "code",
   "execution_count": 81,
   "id": "9847a9a7",
   "metadata": {},
   "outputs": [
    {
     "data": {
      "text/plain": [
       "10"
      ]
     },
     "execution_count": 81,
     "metadata": {},
     "output_type": "execute_result"
    }
   ],
   "source": [
    "min(l)"
   ]
  },
  {
   "cell_type": "code",
   "execution_count": 82,
   "id": "ca994ff4",
   "metadata": {},
   "outputs": [
    {
     "data": {
      "text/plain": [
       "90"
      ]
     },
     "execution_count": 82,
     "metadata": {},
     "output_type": "execute_result"
    }
   ],
   "source": [
    "max(l)"
   ]
  },
  {
   "cell_type": "code",
   "execution_count": 83,
   "id": "00b0d562",
   "metadata": {},
   "outputs": [],
   "source": [
    "l = [10,'20',30,40,50,60,70,'80',90,10,20,30,40,50]"
   ]
  },
  {
   "cell_type": "code",
   "execution_count": 84,
   "id": "1503057c",
   "metadata": {},
   "outputs": [],
   "source": [
    "l.insert(2,150)"
   ]
  },
  {
   "cell_type": "code",
   "execution_count": 85,
   "id": "f7dc258e",
   "metadata": {},
   "outputs": [
    {
     "data": {
      "text/plain": [
       "[10, '20', 150, 30, 40, 50, 60, 70, '80', 90, 10, 20, 30, 40, 50]"
      ]
     },
     "execution_count": 85,
     "metadata": {},
     "output_type": "execute_result"
    }
   ],
   "source": [
    "l"
   ]
  },
  {
   "cell_type": "code",
   "execution_count": 86,
   "id": "26606aa9",
   "metadata": {},
   "outputs": [
    {
     "data": {
      "text/plain": [
       "3"
      ]
     },
     "execution_count": 86,
     "metadata": {},
     "output_type": "execute_result"
    }
   ],
   "source": [
    "l.index(30)"
   ]
  },
  {
   "cell_type": "code",
   "execution_count": 87,
   "id": "8306ced4",
   "metadata": {},
   "outputs": [],
   "source": [
    "l.append('sss')"
   ]
  },
  {
   "cell_type": "code",
   "execution_count": 88,
   "id": "f1f7f97f",
   "metadata": {},
   "outputs": [
    {
     "data": {
      "text/plain": [
       "[10, '20', 150, 30, 40, 50, 60, 70, '80', 90, 10, 20, 30, 40, 50, 'sss']"
      ]
     },
     "execution_count": 88,
     "metadata": {},
     "output_type": "execute_result"
    }
   ],
   "source": [
    "l"
   ]
  },
  {
   "cell_type": "code",
   "execution_count": 89,
   "id": "719a7b62",
   "metadata": {},
   "outputs": [
    {
     "data": {
      "text/plain": [
       "15"
      ]
     },
     "execution_count": 89,
     "metadata": {},
     "output_type": "execute_result"
    }
   ],
   "source": [
    "len(l)-1"
   ]
  },
  {
   "cell_type": "code",
   "execution_count": 90,
   "id": "5e9f8a16",
   "metadata": {},
   "outputs": [],
   "source": [
    "l.insert(12,111)"
   ]
  },
  {
   "cell_type": "code",
   "execution_count": 91,
   "id": "b4bf6ad4",
   "metadata": {},
   "outputs": [
    {
     "data": {
      "text/plain": [
       "[10, '20', 150, 30, 40, 50, 60, 70, '80', 90, 10, 20, 111, 30, 40, 50, 'sss']"
      ]
     },
     "execution_count": 91,
     "metadata": {},
     "output_type": "execute_result"
    }
   ],
   "source": [
    "l"
   ]
  },
  {
   "cell_type": "code",
   "execution_count": 92,
   "id": "e37a29e3",
   "metadata": {},
   "outputs": [],
   "source": [
    "l1 = [1,2,3,4,5,6]\n",
    "l.append(l1)"
   ]
  },
  {
   "cell_type": "code",
   "execution_count": 93,
   "id": "1d49b1e4",
   "metadata": {},
   "outputs": [
    {
     "data": {
      "text/plain": [
       "[10,\n",
       " '20',\n",
       " 150,\n",
       " 30,\n",
       " 40,\n",
       " 50,\n",
       " 60,\n",
       " 70,\n",
       " '80',\n",
       " 90,\n",
       " 10,\n",
       " 20,\n",
       " 111,\n",
       " 30,\n",
       " 40,\n",
       " 50,\n",
       " 'sss',\n",
       " [1, 2, 3, 4, 5, 6]]"
      ]
     },
     "execution_count": 93,
     "metadata": {},
     "output_type": "execute_result"
    }
   ],
   "source": [
    "l"
   ]
  },
  {
   "cell_type": "code",
   "execution_count": 94,
   "id": "27b518c7",
   "metadata": {},
   "outputs": [],
   "source": [
    "l.extend(l1)"
   ]
  },
  {
   "cell_type": "code",
   "execution_count": 95,
   "id": "22ff4828",
   "metadata": {},
   "outputs": [
    {
     "data": {
      "text/plain": [
       "[10,\n",
       " '20',\n",
       " 150,\n",
       " 30,\n",
       " 40,\n",
       " 50,\n",
       " 60,\n",
       " 70,\n",
       " '80',\n",
       " 90,\n",
       " 10,\n",
       " 20,\n",
       " 111,\n",
       " 30,\n",
       " 40,\n",
       " 50,\n",
       " 'sss',\n",
       " [1, 2, 3, 4, 5, 6],\n",
       " 1,\n",
       " 2,\n",
       " 3,\n",
       " 4,\n",
       " 5,\n",
       " 6]"
      ]
     },
     "execution_count": 95,
     "metadata": {},
     "output_type": "execute_result"
    }
   ],
   "source": [
    "l"
   ]
  },
  {
   "cell_type": "code",
   "execution_count": 96,
   "id": "d5792459",
   "metadata": {},
   "outputs": [
    {
     "data": {
      "text/plain": [
       "6"
      ]
     },
     "execution_count": 96,
     "metadata": {},
     "output_type": "execute_result"
    }
   ],
   "source": [
    "l.pop()"
   ]
  },
  {
   "cell_type": "code",
   "execution_count": 97,
   "id": "ff81201f",
   "metadata": {},
   "outputs": [],
   "source": [
    "l.remove(10)"
   ]
  },
  {
   "cell_type": "code",
   "execution_count": 98,
   "id": "f82e4f1d",
   "metadata": {},
   "outputs": [
    {
     "data": {
      "text/plain": [
       "['20',\n",
       " 150,\n",
       " 30,\n",
       " 40,\n",
       " 50,\n",
       " 60,\n",
       " 70,\n",
       " '80',\n",
       " 90,\n",
       " 10,\n",
       " 20,\n",
       " 111,\n",
       " 30,\n",
       " 40,\n",
       " 50,\n",
       " 'sss',\n",
       " [1, 2, 3, 4, 5, 6],\n",
       " 1,\n",
       " 2,\n",
       " 3,\n",
       " 4,\n",
       " 5]"
      ]
     },
     "execution_count": 98,
     "metadata": {},
     "output_type": "execute_result"
    }
   ],
   "source": [
    "l"
   ]
  },
  {
   "cell_type": "code",
   "execution_count": 99,
   "id": "c0338940",
   "metadata": {},
   "outputs": [],
   "source": [
    "l3 =  [20,70,60,80,30,10]"
   ]
  },
  {
   "cell_type": "code",
   "execution_count": 100,
   "id": "1b6fcd63",
   "metadata": {},
   "outputs": [],
   "source": [
    "l3.sort()"
   ]
  },
  {
   "cell_type": "code",
   "execution_count": 101,
   "id": "13ba8b20",
   "metadata": {},
   "outputs": [
    {
     "data": {
      "text/plain": [
       "[10, 20, 30, 60, 70, 80]"
      ]
     },
     "execution_count": 101,
     "metadata": {},
     "output_type": "execute_result"
    }
   ],
   "source": [
    "l3"
   ]
  },
  {
   "cell_type": "code",
   "execution_count": 102,
   "id": "97eac0c3",
   "metadata": {},
   "outputs": [],
   "source": [
    "l3.sort(reverse = True)"
   ]
  },
  {
   "cell_type": "code",
   "execution_count": 103,
   "id": "70406883",
   "metadata": {},
   "outputs": [
    {
     "data": {
      "text/plain": [
       "[80, 70, 60, 30, 20, 10]"
      ]
     },
     "execution_count": 103,
     "metadata": {},
     "output_type": "execute_result"
    }
   ],
   "source": [
    "l3"
   ]
  },
  {
   "cell_type": "code",
   "execution_count": 104,
   "id": "ef361c19",
   "metadata": {},
   "outputs": [
    {
     "data": {
      "text/plain": [
       "[10, 20, 30, 60, 70, 80]"
      ]
     },
     "execution_count": 104,
     "metadata": {},
     "output_type": "execute_result"
    }
   ],
   "source": [
    "l3[::-1]"
   ]
  },
  {
   "cell_type": "code",
   "execution_count": 105,
   "id": "dfd2bcce",
   "metadata": {},
   "outputs": [],
   "source": [
    "a = [10,10,[20,30,40],50,60,70]"
   ]
  },
  {
   "cell_type": "code",
   "execution_count": 106,
   "id": "59b76d1e",
   "metadata": {},
   "outputs": [
    {
     "data": {
      "text/plain": [
       "[20, 30, 40]"
      ]
     },
     "execution_count": 106,
     "metadata": {},
     "output_type": "execute_result"
    }
   ],
   "source": [
    "a[2]"
   ]
  },
  {
   "cell_type": "code",
   "execution_count": 107,
   "id": "303f7c0e",
   "metadata": {},
   "outputs": [
    {
     "data": {
      "text/plain": [
       "30"
      ]
     },
     "execution_count": 107,
     "metadata": {},
     "output_type": "execute_result"
    }
   ],
   "source": [
    "a[2][1]"
   ]
  },
  {
   "cell_type": "code",
   "execution_count": 108,
   "id": "0fbba638",
   "metadata": {},
   "outputs": [],
   "source": [
    "a = [10,10,[20,[11,22,33],30,40],50,60,70]"
   ]
  },
  {
   "cell_type": "code",
   "execution_count": 109,
   "id": "c4fb04a7",
   "metadata": {},
   "outputs": [
    {
     "data": {
      "text/plain": [
       "22"
      ]
     },
     "execution_count": 109,
     "metadata": {},
     "output_type": "execute_result"
    }
   ],
   "source": [
    "a[2][1][1]"
   ]
  },
  {
   "cell_type": "code",
   "execution_count": 110,
   "id": "5b9f026e",
   "metadata": {},
   "outputs": [],
   "source": [
    "# conditional statement"
   ]
  },
  {
   "cell_type": "code",
   "execution_count": 111,
   "id": "78bf21f1",
   "metadata": {},
   "outputs": [],
   "source": [
    "# if statement\n",
    "# if else statement\n",
    "# if elif else statement"
   ]
  },
  {
   "cell_type": "code",
   "execution_count": 112,
   "id": "423d6148",
   "metadata": {},
   "outputs": [],
   "source": [
    "a = 17"
   ]
  },
  {
   "cell_type": "code",
   "execution_count": 113,
   "id": "b7eb1927",
   "metadata": {},
   "outputs": [
    {
     "name": "stdout",
     "output_type": "stream",
     "text": [
      "the given no. is negative\n"
     ]
    }
   ],
   "source": [
    "if a>0:\n",
    "    print(\"the given no. is negative\")"
   ]
  },
  {
   "cell_type": "code",
   "execution_count": 114,
   "id": "273795f7",
   "metadata": {},
   "outputs": [],
   "source": [
    "a = -15"
   ]
  },
  {
   "cell_type": "code",
   "execution_count": 115,
   "id": "56364a65",
   "metadata": {},
   "outputs": [
    {
     "name": "stdout",
     "output_type": "stream",
     "text": [
      "The given no. is negative\n"
     ]
    }
   ],
   "source": [
    "if a>0:\n",
    "    print(\"The given no. is positive\")\n",
    "else:\n",
    "    print(\"The given no. is negative\")"
   ]
  },
  {
   "cell_type": "code",
   "execution_count": 116,
   "id": "4d11a64c",
   "metadata": {},
   "outputs": [],
   "source": [
    "a = 0"
   ]
  },
  {
   "cell_type": "code",
   "execution_count": 117,
   "id": "e82ea377",
   "metadata": {},
   "outputs": [
    {
     "name": "stdout",
     "output_type": "stream",
     "text": [
      "The given no. neutral\n"
     ]
    }
   ],
   "source": [
    "if a>0:\n",
    "    print(\"The given no. is positive\")\n",
    "elif a==0:\n",
    "    print(\"The given no. neutral\")\n",
    "else:\n",
    "    print(\"The given no. negative\")"
   ]
  },
  {
   "cell_type": "code",
   "execution_count": 118,
   "id": "f6597c37",
   "metadata": {},
   "outputs": [],
   "source": [
    "a = 10\n",
    "b = 20"
   ]
  },
  {
   "cell_type": "code",
   "execution_count": 119,
   "id": "64245536",
   "metadata": {},
   "outputs": [
    {
     "name": "stdout",
     "output_type": "stream",
     "text": [
      "a is less than b\n"
     ]
    }
   ],
   "source": [
    "if a>b:\n",
    "    print(\"a is greater than b\")\n",
    "elif a<b:\n",
    "    print(\"a is less than b\")\n",
    "else:\n",
    "    print(\"a is equal to b\")"
   ]
  },
  {
   "cell_type": "code",
   "execution_count": 120,
   "id": "2d12d01b",
   "metadata": {},
   "outputs": [],
   "source": [
    "a = 11"
   ]
  },
  {
   "cell_type": "code",
   "execution_count": 121,
   "id": "245384bc",
   "metadata": {},
   "outputs": [
    {
     "name": "stdout",
     "output_type": "stream",
     "text": [
      "no. is odd\n"
     ]
    }
   ],
   "source": [
    "if a%2==0:\n",
    "    print(\"no. is even\")\n",
    "else:\n",
    "    print(\"no. is odd\")"
   ]
  },
  {
   "cell_type": "code",
   "execution_count": 122,
   "id": "b5a15add",
   "metadata": {},
   "outputs": [],
   "source": [
    "a = '11'\n",
    "b = 12"
   ]
  },
  {
   "cell_type": "code",
   "execution_count": 123,
   "id": "a6b4ee13",
   "metadata": {},
   "outputs": [
    {
     "name": "stdout",
     "output_type": "stream",
     "text": [
      "it is string\n"
     ]
    }
   ],
   "source": [
    "if int(a)<b:\n",
    "    print(\"it is string\")"
   ]
  },
  {
   "cell_type": "code",
   "execution_count": 124,
   "id": "f070fc88",
   "metadata": {},
   "outputs": [],
   "source": [
    "a = 12\n",
    "b = 1"
   ]
  },
  {
   "cell_type": "code",
   "execution_count": 125,
   "id": "2ea98683",
   "metadata": {},
   "outputs": [],
   "source": [
    "if a>b:\n",
    "    pass\n",
    "else:\n",
    "    pass"
   ]
  },
  {
   "cell_type": "code",
   "execution_count": 126,
   "id": "a44e050f",
   "metadata": {},
   "outputs": [],
   "source": [
    "# nested if else statement"
   ]
  },
  {
   "cell_type": "code",
   "execution_count": 127,
   "id": "076b3bdc",
   "metadata": {},
   "outputs": [],
   "source": [
    "a = 1\n",
    "b = 1"
   ]
  },
  {
   "cell_type": "code",
   "execution_count": 128,
   "id": "2fac5a07",
   "metadata": {},
   "outputs": [
    {
     "name": "stdout",
     "output_type": "stream",
     "text": [
      "a is equal to b\n"
     ]
    }
   ],
   "source": [
    "if a>=b:\n",
    "    if a>b:\n",
    "        print(\"a is greater\")\n",
    "    else:\n",
    "        print(\"a is equal to b\")\n",
    "else:\n",
    "    print(\"a is smaller than b\")"
   ]
  },
  {
   "cell_type": "code",
   "execution_count": 129,
   "id": "7ec06c54",
   "metadata": {},
   "outputs": [],
   "source": [
    "a = 15"
   ]
  },
  {
   "cell_type": "code",
   "execution_count": 130,
   "id": "d9a9bc55",
   "metadata": {},
   "outputs": [
    {
     "name": "stdout",
     "output_type": "stream",
     "text": [
      "a is more than 10\n",
      "a is more than 10 but less than 20\n"
     ]
    }
   ],
   "source": [
    "if a>10:\n",
    "    print(\"a is more than 10\")\n",
    "    if a>20:\n",
    "        print(\"a is more than 20\")\n",
    "        if a>30:\n",
    "            print(\"a is more than 30\")\n",
    "        else:\n",
    "            print(\"a is more than 20 but less than 30\")\n",
    "    else :\n",
    "        print(\"a is more than 10 but less than 20\")\n",
    "else :\n",
    "    print(\"a is smaller than 10\")"
   ]
  },
  {
   "cell_type": "code",
   "execution_count": 131,
   "id": "8d2a47e1",
   "metadata": {},
   "outputs": [],
   "source": [
    "# loops"
   ]
  },
  {
   "cell_type": "code",
   "execution_count": 132,
   "id": "8bfda706",
   "metadata": {},
   "outputs": [],
   "source": [
    "l = [1,2,3,4,5,6]"
   ]
  },
  {
   "cell_type": "code",
   "execution_count": 133,
   "id": "f7fdbb50",
   "metadata": {},
   "outputs": [],
   "source": [
    "for i in l:\n",
    "    if i==3:\n",
    "        break\n",
    "        print(i)\n",
    "        "
   ]
  },
  {
   "cell_type": "code",
   "execution_count": 134,
   "id": "43dc2b4c",
   "metadata": {},
   "outputs": [
    {
     "name": "stdout",
     "output_type": "stream",
     "text": [
      "1\n",
      "2\n",
      "3\n"
     ]
    }
   ],
   "source": [
    "for i in l :\n",
    "    print(i)\n",
    "    if i == 3 :\n",
    "        break\n",
    "        "
   ]
  },
  {
   "cell_type": "code",
   "execution_count": 135,
   "id": "cecde36e",
   "metadata": {},
   "outputs": [],
   "source": [
    "s = \"sakshi\""
   ]
  },
  {
   "cell_type": "code",
   "execution_count": 136,
   "id": "b93063e7",
   "metadata": {},
   "outputs": [
    {
     "name": "stdout",
     "output_type": "stream",
     "text": [
      "[1, 2, 3, 4, 5, 6]\n",
      "[1, 2, 3, 4, 5, 6]\n",
      "[1, 2, 3, 4, 5, 6]\n",
      "[1, 2, 3, 4, 5, 6]\n",
      "[1, 2, 3, 4, 5, 6]\n",
      "[1, 2, 3, 4, 5, 6]\n"
     ]
    }
   ],
   "source": [
    "for i in l :\n",
    "    print(l)"
   ]
  },
  {
   "cell_type": "code",
   "execution_count": 139,
   "id": "8e9498cc",
   "metadata": {},
   "outputs": [
    {
     "name": "stdout",
     "output_type": "stream",
     "text": [
      "This is final output 120\n"
     ]
    }
   ],
   "source": [
    "num = 5\n",
    "output = 1\n",
    "for i in range(1,num+1):\n",
    "    output = output*i\n",
    "print(\"This is final output\",output)"
   ]
  },
  {
   "cell_type": "code",
   "execution_count": 140,
   "id": "19a38d69",
   "metadata": {},
   "outputs": [],
   "source": [
    "# functions"
   ]
  },
  {
   "cell_type": "code",
   "execution_count": 141,
   "id": "e41fea79",
   "metadata": {},
   "outputs": [
    {
     "name": "stdout",
     "output_type": "stream",
     "text": [
      "6811\n"
     ]
    }
   ],
   "source": [
    "sakshi = [1500,2200,3000,111]\n",
    "total = 0\n",
    "for i in sakshi:\n",
    "    total = total + i\n",
    "print(total)"
   ]
  },
  {
   "cell_type": "code",
   "execution_count": 143,
   "id": "02ec7657",
   "metadata": {},
   "outputs": [],
   "source": [
    "rutwik = [1111,2222,3333,4444]"
   ]
  },
  {
   "cell_type": "code",
   "execution_count": 144,
   "id": "bf9703c3",
   "metadata": {},
   "outputs": [
    {
     "name": "stdout",
     "output_type": "stream",
     "text": [
      "11110\n"
     ]
    }
   ],
   "source": [
    "def total_amount(name):\n",
    "    total = 0\n",
    "    for i in name:\n",
    "        total = total + i\n",
    "    print(total)\n",
    "total_amount(rutwik)"
   ]
  },
  {
   "cell_type": "code",
   "execution_count": 145,
   "id": "3ce9ea6a",
   "metadata": {},
   "outputs": [],
   "source": [
    "from random import *"
   ]
  },
  {
   "cell_type": "code",
   "execution_count": 146,
   "id": "41171a87",
   "metadata": {},
   "outputs": [
    {
     "name": "stdout",
     "output_type": "stream",
     "text": [
      "0.4474126835396809\n"
     ]
    }
   ],
   "source": [
    "print(random())"
   ]
  },
  {
   "cell_type": "code",
   "execution_count": 147,
   "id": "ebca58e7",
   "metadata": {},
   "outputs": [],
   "source": [
    "from random import *"
   ]
  },
  {
   "cell_type": "code",
   "execution_count": 148,
   "id": "a985ecd3",
   "metadata": {},
   "outputs": [
    {
     "name": "stdout",
     "output_type": "stream",
     "text": [
      "43\n",
      "33\n",
      "23\n",
      "32\n",
      "52\n",
      "42\n",
      "40\n",
      "47\n",
      "35\n",
      "31\n"
     ]
    }
   ],
   "source": [
    "for i in range(10):\n",
    "    print(randrange(22,54))"
   ]
  },
  {
   "cell_type": "code",
   "execution_count": 149,
   "id": "8e8ada25",
   "metadata": {},
   "outputs": [],
   "source": [
    "from random import *"
   ]
  },
  {
   "cell_type": "code",
   "execution_count": 150,
   "id": "08ef399b",
   "metadata": {},
   "outputs": [
    {
     "name": "stdout",
     "output_type": "stream",
     "text": [
      "10\n"
     ]
    }
   ],
   "source": [
    "print(randrange(10,100,10))"
   ]
  },
  {
   "cell_type": "code",
   "execution_count": 151,
   "id": "d38a0009",
   "metadata": {},
   "outputs": [
    {
     "name": "stdout",
     "output_type": "stream",
     "text": [
      "3\n"
     ]
    }
   ],
   "source": [
    "print(randint(1,5))"
   ]
  },
  {
   "cell_type": "code",
   "execution_count": 152,
   "id": "16d9802a",
   "metadata": {},
   "outputs": [
    {
     "data": {
      "text/plain": [
       "8.651253627779957"
      ]
     },
     "execution_count": 152,
     "metadata": {},
     "output_type": "execute_result"
    }
   ],
   "source": [
    "uniform(1,10)"
   ]
  },
  {
   "cell_type": "code",
   "execution_count": 153,
   "id": "d552c0aa",
   "metadata": {},
   "outputs": [
    {
     "data": {
      "text/plain": [
       "30"
      ]
     },
     "execution_count": 153,
     "metadata": {},
     "output_type": "execute_result"
    }
   ],
   "source": [
    "l = [10,20,30,40,5,6,7]\n",
    "choice(l)"
   ]
  },
  {
   "cell_type": "code",
   "execution_count": 160,
   "id": "1149e193",
   "metadata": {},
   "outputs": [],
   "source": [
    "# area of ractangle"
   ]
  },
  {
   "cell_type": "code",
   "execution_count": 162,
   "id": "f08f1a91",
   "metadata": {},
   "outputs": [
    {
     "name": "stdout",
     "output_type": "stream",
     "text": [
      "Height is: 15\n",
      "Width is : 20\n",
      "area of rectangle is : 300\n"
     ]
    }
   ],
   "source": [
    "class Rectangle():\n",
    "    def __init__(self,height,width):\n",
    "        self.height=height\n",
    "        self.width=width\n",
    "    def display(self):\n",
    "        print(\"Height is:\",self.height)\n",
    "        print(\"Width is :\",self.width)\n",
    "    def area(self):\n",
    "        print(\"area of rectangle is :\",self.height*self.width)\n",
    "r = Rectangle(15,20)\n",
    "r.display()\n",
    "r.area()"
   ]
  },
  {
   "cell_type": "code",
   "execution_count": null,
   "id": "2c6738f8",
   "metadata": {},
   "outputs": [],
   "source": []
  },
  {
   "cell_type": "code",
   "execution_count": null,
   "id": "ed63e0c2",
   "metadata": {},
   "outputs": [],
   "source": []
  },
  {
   "cell_type": "code",
   "execution_count": null,
   "id": "f73098e7",
   "metadata": {},
   "outputs": [],
   "source": []
  }
 ],
 "metadata": {
  "kernelspec": {
   "display_name": "Python 3 (ipykernel)",
   "language": "python",
   "name": "python3"
  },
  "language_info": {
   "codemirror_mode": {
    "name": "ipython",
    "version": 3
   },
   "file_extension": ".py",
   "mimetype": "text/x-python",
   "name": "python",
   "nbconvert_exporter": "python",
   "pygments_lexer": "ipython3",
   "version": "3.10.9"
  }
 },
 "nbformat": 4,
 "nbformat_minor": 5
}
